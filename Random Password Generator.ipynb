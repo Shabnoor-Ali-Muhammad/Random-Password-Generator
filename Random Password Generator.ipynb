{
 "cells": [
  {
   "cell_type": "code",
   "execution_count": 1,
   "id": "2300cedb",
   "metadata": {},
   "outputs": [
    {
     "name": "stdout",
     "output_type": "stream",
     "text": [
      "PVn78l33\n"
     ]
    }
   ],
   "source": [
    "import random\n",
    "\n",
    "def shuffle(string):\n",
    "    templist = list(string)\n",
    "    random.shuffle(templist)\n",
    "    return ''.join(templist)\n",
    "\n",
    "#uppercaseletter\n",
    "uppercaseletter1 = chr(random.randint(65,90))\n",
    "uppercaseletter2 = chr(random.randint(65,90))\n",
    "\n",
    "#lowercaseletter\n",
    "lowercaseletter1 = chr(random.randint(97,122))\n",
    "lowercaseletter2 = chr(random.randint(97,122))\n",
    "\n",
    "#digit\n",
    "digit1 = chr(random.randint(48,57))\n",
    "digit2 = chr(random.randint(48,57))\n",
    "\n",
    "#character\n",
    "punctuationsign1 = chr(random.randint(32,152))\n",
    "punctuationsign2 = chr(random.randint(32,152))\n",
    "\n",
    "password = uppercaseletter1 + uppercaseletter2 + lowercaseletter1 + lowercaseletter2 + digit1 + digit2 + punctuationsign1 + punctuationsign2\n",
    "\n",
    "password = shuffle(password)\n",
    "\n",
    "print(password)"
   ]
  }
 ],
 "metadata": {
  "kernelspec": {
   "display_name": "Python 3 (ipykernel)",
   "language": "python",
   "name": "python3"
  },
  "language_info": {
   "codemirror_mode": {
    "name": "ipython",
    "version": 3
   },
   "file_extension": ".py",
   "mimetype": "text/x-python",
   "name": "python",
   "nbconvert_exporter": "python",
   "pygments_lexer": "ipython3",
   "version": "3.9.12"
  }
 },
 "nbformat": 4,
 "nbformat_minor": 5
}
